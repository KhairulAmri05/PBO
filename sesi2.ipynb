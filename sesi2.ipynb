{
 "cells": [
  {
   "cell_type": "code",
   "execution_count": 1,
   "metadata": {},
   "outputs": [
    {
     "name": "stdout",
     "output_type": "stream",
     "text": [
      "3 adalah bilangan ganjil\n"
     ]
    }
   ],
   "source": [
    "# Program untuk menentukan apakah sebuah bilangan yang diinput ganjil atau genap\n",
    "#\n",
    "\n",
    "# Membaca bilangan yang dimasukkan user\n",
    "bil = int(input(\"Masukkan sebuah bilangan:\"))\n",
    "\n",
    "# Proses untuk menentukan bilangan tersebut ganjil atau genap\n",
    "# Menggunakan operator modulus\n",
    "if bil % 2 == 1:\n",
    "  print(bil, \"adalah bilangan ganjil\")\n",
    "else:\n",
    "  print(bil, \"adalah bilangan genap\")"
   ]
  },
  {
   "cell_type": "code",
   "execution_count": null,
   "metadata": {},
   "outputs": [],
   "source": [
    "# Program untuk menentukan apakah huruf tersebut vokal atau konsonan\n",
    "# Dalam Ejaan Bahasa Inggris\n",
    "\n",
    "# Membaca huruf yang dimasukkan user\n",
    "hur= input(\"Masukkan sebuah huruf dari kumpulan abjad:\")\n",
    "\n",
    "#Proses menentukan huruf dan menampilkan hasilnya\n",
    "if hur ==\"a\" or hur == \"e\" or \\\n",
    "   hur ==\"i\" or hur == \"o\" or \\\n",
    "   hur ==\"u\":\n",
    "  print(\"Ini adalah vokal.\")\n",
    "elif hur ==\"y\":\n",
    "  print(\"Kadang vokal...kadang konsonan\")\n",
    "else:\n",
    "  print(\"Ini adalah konsonan.\")"
   ]
  },
  {
   "cell_type": "code",
   "execution_count": null,
   "metadata": {},
   "outputs": [],
   "source": [
    "#menampilkan nama ukuran geometri berdasarkan jumlah sisi yang diinput\n",
    "#\n",
    "\n",
    "# Membaca jumlah sisi yang diinput oleh user\n",
    "sisi = int(input(\"Masukkan jumlah sisinya:\"))\n",
    "\n",
    "# Menampilkan nama ukuran geometri tersebut\n",
    "nama = \"\"\n",
    "if sisi == 3:\n",
    "  nama = \"triangle\"\n",
    "elif sisi == 4:\n",
    "  nama = \"quadrilateral\"\n",
    "elif sisi == 5:\n",
    "  nama = \"pentagon\"\n",
    "elif sisi == 6:\n",
    "  nama = \"hexagon\"\n",
    "elif sisi == 7:\n",
    "  nama = \"heptagon\"\n",
    "elif sisi == 8:\n",
    "  nama = \"ocatagon\"\n",
    "elif sisi == 9:\n",
    "  nama = \"nonagon\"\n",
    "elif sisi == 10:\n",
    "  nama = \"decagon\"\n",
    "\n",
    "# Menampilkan pesan kesalahan atau nama dari ruang geometri\n",
    "if nama == \"\":\n",
    "  print(\"Jumlah sisi yang diinput tidak ada dalam database\")\n",
    "else:\n",
    "  print(\"Ini adalah\", nama)\n"
   ]
  },
  {
   "cell_type": "code",
   "execution_count": null,
   "metadata": {},
   "outputs": [],
   "source": [
    "# Menentukan dan menampilkan nama musim berdasarkan tanggal\n",
    "#\n",
    "\n",
    "# Membaca tanggal yang diinput oleh user\n",
    "bulan = input(\"masukkan nama bulan:\")\n",
    "tgl = int(input(\"masukkan tanggal dibulan tersebut:\"))\n",
    "\n",
    "# Proses menentukan nama musim\n",
    "if bulan == \"Januari\" or bulan ==\"Februari\":\n",
    "  musim = \"Winter\"\n",
    "elif bulan == \"Maret\":\n",
    "  if tgl < 20:\n",
    "    musim = \"Winter\"\n",
    "  else:\n",
    "    musim = \"Spring\"\n",
    "elif bulan ==\"April\" or bulan == \"Mei\":\n",
    "  musim = \"Spring\"\n",
    "elif bulan == \"Juni\":\n",
    "  if tgl < 21:\n",
    "    musim = \"Spring\"\n",
    "  else:\n",
    "    musim = \"Summer\"\n",
    "elif bulan ==\"Juli\" or bulan == \"Agustus\":\n",
    "  musim = \"Summer\"\n",
    "elif bulan == \"September\":\n",
    "   if tgl < 22:\n",
    "     musim = \"Summer\"\n",
    "   else:\n",
    "     musim = \"Fall\"\n",
    "elif bulan ==\"Oktober\" or bulan == \"November\":\n",
    "  musim = \"Fall\"\n",
    "elif bulan == \"Desember\":\n",
    "    if tgl < 21:\n",
    "      musim = \"Fall\"\n",
    "    else:\n",
    "      musim = \"Winter\"\n",
    "\n",
    "# Tampilkan hasil\n",
    "print(tgl, bulan, \"adalah dalam musim\", musim)"
   ]
  }
 ],
 "metadata": {
  "kernelspec": {
   "display_name": "Python 3",
   "language": "python",
   "name": "python3"
  },
  "language_info": {
   "codemirror_mode": {
    "name": "ipython",
    "version": 3
   },
   "file_extension": ".py",
   "mimetype": "text/x-python",
   "name": "python",
   "nbconvert_exporter": "python",
   "pygments_lexer": "ipython3",
   "version": "3.13.0"
  }
 },
 "nbformat": 4,
 "nbformat_minor": 2
}

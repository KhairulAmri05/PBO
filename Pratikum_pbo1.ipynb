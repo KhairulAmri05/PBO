{
 "cells": [
  {
   "cell_type": "code",
   "execution_count": 7,
   "metadata": {},
   "outputs": [
    {
     "name": "stdout",
     "output_type": "stream",
     "text": [
      "Buddy\n",
      "Borea\n",
      "Buddy\n",
      "Canine\n"
     ]
    }
   ],
   "source": [
    "class Dog:\n",
    "    def __init__(self, name, age):\n",
    "        self.name = name\n",
    "        self.age = age\n",
    "\n",
    "dog1 = Dog(\"Buddy\", 3)\n",
    "dog2 = Dog(\"Borea\",5)\n",
    "print(dog1.name)\n",
    "print(dog2.name) \n",
    "\n",
    "\n",
    "#More\n",
    "class Dog:\n",
    "    species = \"Canine\"  # Class attribute\n",
    "\n",
    "    def __init__(self, name, age):\n",
    "        self.name = name  # Instance attribute\n",
    "        self.age = age  # Instance attribute\n",
    "\n",
    "# Creating an object of the Dog class\n",
    "dog1 = Dog(\"Buddy\", 3)\n",
    "\n",
    "print(dog1.name) \n",
    "print(dog1.species)"
   ]
  },
  {
   "cell_type": "code",
   "execution_count": 8,
   "metadata": {},
   "outputs": [
    {
     "name": "stdout",
     "output_type": "stream",
     "text": [
      "Buddy 3 Canine\n",
      "Charlie 5 Canine\n",
      "Canine\n"
     ]
    }
   ],
   "source": [
    "#Self Parameter\n",
    "\n",
    "class Dog:\n",
    "    species = \"Canine\"  # Class attribute\n",
    "\n",
    "    def __init__(self, name, age):\n",
    "        self.name = name  # Instance attribute\n",
    "        self.age = age  # Instance attribute\n",
    "\n",
    "dog1 = Dog(\"Buddy\", 3)  # Create an instance of Dog\n",
    "dog2 = Dog(\"Charlie\", 5)  # Create another instance of Dog\n",
    "\n",
    "print(dog1.name, dog1.age, dog1.species)  # Access instance and class attributes\n",
    "print(dog2.name, dog2.age, dog2.species)  # Access instance and class attributes\n",
    "print(Dog.species)  # Access class attribute directly\n"
   ]
  },
  {
   "cell_type": "code",
   "execution_count": null,
   "metadata": {},
   "outputs": [
    {
     "name": "stdout",
     "output_type": "stream",
     "text": [
      "Canine\n",
      "Buddy\n",
      "Charlie\n",
      "Max\n",
      "Feline\n",
      "Feline\n"
     ]
    }
   ],
   "source": [
    "#instance variables and class variables\n",
    "class Dog:\n",
    "    # Class variable\n",
    "    species = \"Canine\"\n",
    "\n",
    "    def __init__(self, name, age):\n",
    "        # Instance variables\n",
    "        self.name = name\n",
    "        self.age = age\n",
    "\n",
    "# Create objects\n",
    "dog1 = Dog(\"Buddy\", 3)\n",
    "dog2 = Dog(\"Charlie\", 5)\n",
    "\n",
    "# Access class and instance variables\n",
    "print(dog1.species)  # (Class variable)\n",
    "print(dog1.name)     # (Instance variable)\n",
    "print(dog2.name)     # (Instance variable)\n",
    "\n",
    "# Modify instance variables\n",
    "dog1.name = \"Max\"\n",
    "print(dog1.name)     # (Updated instance variable)\n",
    "\n",
    "# Modify class variable\n",
    "Dog.species = \"Feline\"\n",
    "print(dog1.species)  # (Updated class variable)\n",
    "print(dog2.species) "
   ]
  },
  {
   "cell_type": "code",
   "execution_count": 6,
   "metadata": {},
   "outputs": [
    {
     "name": "stdout",
     "output_type": "stream",
     "text": [
      "Nilai a: 10\n",
      "Nilai b: 20\n"
     ]
    }
   ],
   "source": [
    "\n",
    "#Pewarisan\n",
    "class A:\n",
    " def _init_(self):\n",
    "   self ._a = 0\n",
    " def setA(self, a):\n",
    "   self ._a = a\n",
    " def getA(self):\n",
    "   return self._a\n",
    "\n",
    "#mendefinisikan kelas anak\t\n",
    "class B(A):\n",
    " def _init_(self):\n",
    "   self ._b = 0\n",
    " def setB(self, b):\n",
    "   self ._b = b\n",
    " def getB(self):\n",
    "   return self._b\n",
    "\n",
    "#membuat objek\n",
    "obj = B()\n",
    "\n",
    "#memanggil method milik kelas induk\n",
    "obj.setA(10)\n",
    "print(\"Nilai a: %d\" % obj.getA())\n",
    "\n",
    "#memanggil method milik dirinya sendiri\n",
    "obj.setB(20)\n",
    "print(\"Nilai b: %d\" % obj.getB())\n"
   ]
  }
 ],
 "metadata": {
  "kernelspec": {
   "display_name": "Python 3",
   "language": "python",
   "name": "python3"
  },
  "language_info": {
   "codemirror_mode": {
    "name": "ipython",
    "version": 3
   },
   "file_extension": ".py",
   "mimetype": "text/x-python",
   "name": "python",
   "nbconvert_exporter": "python",
   "pygments_lexer": "ipython3",
   "version": "3.13.0"
  }
 },
 "nbformat": 4,
 "nbformat_minor": 2
}

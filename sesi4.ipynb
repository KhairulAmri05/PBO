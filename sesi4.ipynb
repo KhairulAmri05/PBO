{
 "cells": [
  {
   "cell_type": "code",
   "execution_count": null,
   "metadata": {},
   "outputs": [],
   "source": [
    "# Program Fungsi dengan parameter \n",
    "# Fungsi untuk menyapa seseorang sesuai nama yang dimasukkan sebagai parameter \n",
    "def kenalan(nama): \n",
    "     print(\"Salam, \" + nama + \". Apa kabar?\") \n",
    "\n",
    "# pemanggilan fungsi \n",
    "kenalan('Hamzah') "
   ]
  },
  {
   "cell_type": "code",
   "execution_count": null,
   "metadata": {},
   "outputs": [],
   "source": [
    "# Menghitung dan menampilkan nilai median dari inputan tiga angka\n",
    "# Program ini dibuat dengan kata kunci def untuk membuat fungsi\n",
    "# menghitung nilai median dari 3 nilai yang diinput\n",
    "\n",
    "def median(a, b, c):\n",
    "# Proses perhitungan median cara pertama dengan perbandingan\n",
    "# Menggunakan kata kunci retun untuk mengembalikan nilai\n",
    "# untuk masing-masing nilai, yaitu a, b dan c\n",
    "  if a < b and b < c or a> b and b > c:\n",
    "    return b\n",
    "  if b < a and a < c or b > a and a > c:\n",
    "    return a\n",
    "  if c < a and b < c or c > a and b > c:\n",
    "    return c\n",
    "\n",
    "# Proses perhitungan median cara kedua\n",
    "def median2(a, b, c):\n",
    "    return a + b + c - min(a, b, c) - max(a, b, c)\n",
    "\n",
    "# Menampilkan nilai inputan 3 angka\n",
    "def utama():\n",
    "  x = float(input(\"Masukkan nilai pertama:\"))\n",
    "  y = float(input(\"Masukkan nilai kedua:\"))\n",
    "  z = float(input(\"Masukkan nilai ketiga:\"))\n",
    "\n",
    "  print(\"Nilai median dengan cara pertama:\", median(x, y, z))\n",
    "  print(\"Nilai median dengan cara kedua:\", median2(x, y, z))\n",
    "\n",
    "# Memanggil fungsi utama()\n",
    "utama()"
   ]
  },
  {
   "cell_type": "code",
   "execution_count": null,
   "metadata": {},
   "outputs": [],
   "source": [
    "# Deklarasi fungsi salam_olahraga\n",
    "def salam_olahraga():\n",
    "    # Mencetak ouput pada fungsi salam_olahraga\n",
    "    print (\"JANGAN LUPA OLAHRAGA HARI INI!\")\n",
    "\n",
    "# Memanggil fungsi salam_olahraga\n",
    "salam_olahraga()  # memanggil fungsi salam_olahraga\n",
    "salam_olahraga()  # fungsi salam_olahraga dipanggil lagi"
   ]
  }
 ],
 "metadata": {
  "kernelspec": {
   "display_name": "Python 3",
   "language": "python",
   "name": "python3"
  },
  "language_info": {
   "name": "python",
   "version": "3.13.0"
  }
 },
 "nbformat": 4,
 "nbformat_minor": 2
}

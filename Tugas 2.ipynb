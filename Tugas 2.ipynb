{
 "cells": [
  {
   "cell_type": "code",
   "execution_count": 1,
   "metadata": {},
   "outputs": [
    {
     "name": "stdout",
     "output_type": "stream",
     "text": [
      "Mahasiswa Budi dengan NIM 220001 telah mencetak KRS.\n"
     ]
    }
   ],
   "source": [
    "# 1. Kelas Mahasiswa\n",
    "class Mahasiswa:  # <-- CLASS\n",
    "    def __init__(self, nama, nim):  # <-- METHOD (constructor)\n",
    "        self.nama = nama\n",
    "        self.nim = nim\n",
    "\n",
    "    def cetak_krs(self):  # <-- METHOD\n",
    "        print(f\"Mahasiswa {self.nama} dengan NIM {self.nim} telah mencetak KRS.\")\n",
    "\n",
    "mhs = Mahasiswa(\"Budi\", \"220001\")  # <-- OBJECT\n",
    "mhs.cetak_krs()  # <-- MEMANGGIL METHOD"
   ]
  },
  {
   "cell_type": "code",
   "execution_count": null,
   "metadata": {},
   "outputs": [],
   "source": [
    "# 2. Kelas Lingkaran\n",
    "class Lingkaran:  # <-- CLASS\n",
    "    def __init__(self, radius):  # <-- METHOD (constructor)\n",
    "        self.radius = radius\n",
    "\n",
    "    def buat_lingkaran(self):  # <-- METHOD\n",
    "        print(f\"Lingkaran dengan radius {self.radius} telah dibuat.\")\n",
    "\n",
    "blt = Lingkaran(10)  # <-- OBJECT\n",
    "blt.buat_lingkaran()  # <-- MEMANGGIL METHOD\n"
   ]
  },
  {
   "cell_type": "code",
   "execution_count": null,
   "metadata": {},
   "outputs": [],
   "source": [
    "# 3. Kelas Mobil\n",
    "class Mobil:  # <-- CLASS\n",
    "    def __init__(self, merk, warna):  # <-- METHOD (constructor)\n",
    "        self.merk = merk\n",
    "        self.warna = warna\n",
    "\n",
    "    def info_mobil(self):  # <-- METHOD\n",
    "        print(f\"Mobil {self.merk} berwarna {self.warna}.\")\n",
    "\n",
    "mbl = Mobil(\"Toyota\", \"Merah\")  # <-- OBJECT\n",
    "mbl.info_mobil()  # <-- MEMANGGIL METHOD"
   ]
  },
  {
   "cell_type": "code",
   "execution_count": null,
   "metadata": {},
   "outputs": [],
   "source": [
    "# 4. Kelas Persegi\n",
    "class Persegi:  # <-- CLASS\n",
    "    def __init__(self, sisi):  # <-- METHOD (constructor)\n",
    "        self.sisi = sisi\n",
    "\n",
    "    def luas(self):  # <-- METHOD\n",
    "        return self.sisi * self.sisi\n",
    "\n",
    "psg = Persegi(5)  # <-- OBJECT\n",
    "print(f\"Luas persegi: {psg.luas()}\")  # <-- MEMANGGIL METHOD"
   ]
  },
  {
   "cell_type": "code",
   "execution_count": null,
   "metadata": {},
   "outputs": [],
   "source": [
    "# 5. Kelas Pegawai\n",
    "class Pegawai:  # <-- CLASS\n",
    "    def __init__(self, nama, gaji):  # <-- METHOD (constructor)\n",
    "        self.nama = nama\n",
    "        self.gaji = gaji\n",
    "\n",
    "    def info_pegawai(self):  # <-- METHOD\n",
    "        print(f\"Pegawai {self.nama} memiliki gaji Rp{self.gaji}\")\n",
    "\n",
    "pgw = Pegawai(\"Siti\", 5000000)  # <-- OBJECT\n",
    "pgw.info_pegawai()  # <-- MEMANGGIL METHOD"
   ]
  }
 ],
 "metadata": {
  "kernelspec": {
   "display_name": "Python 3",
   "language": "python",
   "name": "python3"
  },
  "language_info": {
   "codemirror_mode": {
    "name": "ipython",
    "version": 3
   },
   "file_extension": ".py",
   "mimetype": "text/x-python",
   "name": "python",
   "nbconvert_exporter": "python",
   "pygments_lexer": "ipython3",
   "version": "3.13.0"
  }
 },
 "nbformat": 4,
 "nbformat_minor": 2
}

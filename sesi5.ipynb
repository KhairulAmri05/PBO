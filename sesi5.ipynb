{
 "cells": [
  {
   "cell_type": "code",
   "execution_count": 1,
   "metadata": {},
   "outputs": [
    {
     "name": "stdout",
     "output_type": "stream",
     "text": [
      "list1[0]:  a\n",
      "list2[1:3]:  ['bahasa aceh', 2019]\n",
      "list3[1:5]:  [2, 3, 4, 5, 6]\n"
     ]
    }
   ],
   "source": [
    "# Pembuatan list pada bahasa pemrograman python\n",
    "list1 = [\"a\", \"b\", \"c\", \"d\"]\n",
    "list2 = ['bahasa arab', 'bahasa aceh', 2019, 2020]\n",
    "list3 = [1, 2, 3, 4, 5, 6, 7 ]\n",
    "\n",
    "\n",
    "# Mengakses Nilai list dalam Python\n",
    "print (\"list1[0]: \", list1[0])\n",
    "print (\"list2[1:3]: \", list2[1:3])\n",
    "print (\"list3[1:5]: \", list3[1:6])"
   ]
  },
  {
   "cell_type": "code",
   "execution_count": null,
   "metadata": {},
   "outputs": [],
   "source": [
    "# Pembuatan list dan mengakses nilai list pada indeks 2\n",
    "ist = ['bahasa arab', 'bahasa aceh', 2019, 2020]\n",
    "print (\"Nilai ada pada index 2 adalah: \", list[2])\n",
    "\n",
    "# Proses Update nilai list pada indeks 2\n",
    "list[2] = 2018\n",
    "print (\"Nilai baru ada pada index 2 adalah: \", list[2])"
   ]
  },
  {
   "cell_type": "code",
   "execution_count": null,
   "metadata": {},
   "outputs": [],
   "source": [
    "# Pembuatan list\n",
    "list = ['bahasa arab', 'bahasa aceh', 2019, 2020]\n",
    "print (\"Daftar list sebelum dihapus:\", list)\n",
    "\n",
    "# Proses menghapus nilai List pada indeks 1\n",
    "del list[1]\n",
    "print (\"Setelah dihapus nilai pada index 1 : \", list)\n",
    "     "
   ]
  }
 ],
 "metadata": {
  "kernelspec": {
   "display_name": "Python 3",
   "language": "python",
   "name": "python3"
  },
  "language_info": {
   "codemirror_mode": {
    "name": "ipython",
    "version": 3
   },
   "file_extension": ".py",
   "mimetype": "text/x-python",
   "name": "python",
   "nbconvert_exporter": "python",
   "pygments_lexer": "ipython3",
   "version": "3.13.0"
  }
 },
 "nbformat": 4,
 "nbformat_minor": 2
}

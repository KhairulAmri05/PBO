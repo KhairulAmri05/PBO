{
 "cells": [
  {
   "cell_type": "code",
   "execution_count": 1,
   "id": "8831fc42",
   "metadata": {},
   "outputs": [
    {
     "name": "stdout",
     "output_type": "stream",
     "text": [
      "800.0\n",
      "Gaji final = 5000\n"
     ]
    }
   ],
   "source": [
    "# enkapsulasi dengan public access modifier\n",
    "class pegawai:\n",
    "    def __init__(self, nama, salary):\n",
    "        self.nama=nama\n",
    "        self.gaji=salary\n",
    "        self.gaji_final= self.gaji - (0.2 * self.gaji)\n",
    "\n",
    "obj1 = pegawai(\"Agus\", 1000)\n",
    "print(obj1.gaji_final)\n",
    "\n",
    "obj1.gaji_final = 5000\n",
    "print(f\"Gaji final = {obj1.gaji_final}\")"
   ]
  },
  {
   "cell_type": "code",
   "execution_count": 2,
   "id": "e4bdc66b",
   "metadata": {},
   "outputs": [
    {
     "name": "stdout",
     "output_type": "stream",
     "text": [
      "800.0\n"
     ]
    }
   ],
   "source": [
    "# enkapsulasi dengan private access modifier\n",
    "class pegawai:\n",
    "    def __init__(self, nama, salary):\n",
    "        self.nama=nama\n",
    "        self.gaji=salary\n",
    "        self.__gaji_final= self.gaji - (0.2 * self.gaji)\n",
    "\n",
    "    def showGajiFinal(self):\n",
    "        return self.__gaji_final\n",
    "\n",
    "obj1=pegawai(\"Agus\", 1000)\n",
    "print(obj1.showGajiFinal())"
   ]
  },
  {
   "cell_type": "code",
   "execution_count": 3,
   "id": "892bd645",
   "metadata": {},
   "outputs": [
    {
     "name": "stdout",
     "output_type": "stream",
     "text": [
      "{'brand': 'Ford', 'model': 'Focus', 'year': 2008, 'number_of_doors': 5, 'number_of_wheels': 4}\n",
      "{'brand': 'Honda', 'model': 'Scoopy', 'year': 2018, 'number_of_wheels': 2}\n",
      "vehicle is starting\n",
      "vehicle is starting\n"
     ]
    }
   ],
   "source": [
    "#make class Vehicle\n",
    "class Vehicle:\n",
    "\tdef __init__(self, brand, model, year):\n",
    "\t\tself.brand = brand\n",
    "\t\tself.model = model\n",
    "\t\tself.year = year\n",
    "\n",
    "#make methods\n",
    "\tdef start(self):\n",
    "\t\tprint(\"vehicle is starting\")\n",
    "\tdef stop(self):\n",
    "\t\tprint(\"vehicle is stopping\")\n",
    "#define sub class and make class Car (inheritance from Vehicle)\n",
    "# the super() to call method __init__() from class Vehicle\n",
    "class Car(Vehicle):\n",
    "\tdef __init__(self, brand, model, year, number_of_doors, number_of_wheels):\n",
    "\t\tsuper().__init__(brand, model, year)\n",
    "\t\tself.number_of_doors= number_of_doors\n",
    "\t\tself.number_of_wheels=number_of_wheels\n",
    "\n",
    "#make class Bike (inheritance from Vehicle)\n",
    "class Bike(Vehicle):\n",
    "\tdef __init__(self, brand, model, year, number_of_wheels):\n",
    "\t\tsuper().__init__(brand, model, year)\n",
    "\t\tself.number_of_wheels=number_of_wheels\n",
    "\n",
    "#make object\n",
    "car = Car(\"Ford\", \"Focus\", 2008, 5, 4)\n",
    "bike = Bike(\"Honda\", \"Scoopy\", 2018, 2)\n",
    "#print attribute dan method\n",
    "print(car.__dict__)\n",
    "print(bike.__dict__)\n",
    "car.start()\n",
    "bike.start()\n",
    "     \n"
   ]
  },
  {
   "cell_type": "code",
   "execution_count": 4,
   "id": "916a8d38",
   "metadata": {},
   "outputs": [
    {
     "name": "stdout",
     "output_type": "stream",
     "text": [
      "Area: 6\n",
      "Area: 78.5\n"
     ]
    }
   ],
   "source": [
    "class Shape:\n",
    "    def area(self):\n",
    "        return \"Undefined\"\n",
    "\n",
    "class Rectangle(Shape):\n",
    "    def __init__(self, length, width):\n",
    "        self.length = length\n",
    "        self.width = width\n",
    "\n",
    "    def area(self):\n",
    "        return self.length * self.width\n",
    "\n",
    "class Circle(Shape):\n",
    "    def __init__(self, radius):\n",
    "        self.radius = radius\n",
    "\n",
    "    def area(self):\n",
    "        return 3.14 * self.radius ** 2\n",
    "\n",
    "shapes = [Rectangle(2, 3), Circle(5)]\n",
    "for shape in shapes:\n",
    "    print(f\"Area: {shape.area()}\")"
   ]
  }
 ],
 "metadata": {
  "kernelspec": {
   "display_name": "Python 3",
   "language": "python",
   "name": "python3"
  },
  "language_info": {
   "codemirror_mode": {
    "name": "ipython",
    "version": 3
   },
   "file_extension": ".py",
   "mimetype": "text/x-python",
   "name": "python",
   "nbconvert_exporter": "python",
   "pygments_lexer": "ipython3",
   "version": "3.13.0"
  }
 },
 "nbformat": 4,
 "nbformat_minor": 5
}

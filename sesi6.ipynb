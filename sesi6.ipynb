{
 "cells": [
  {
   "cell_type": "code",
   "execution_count": null,
   "metadata": {},
   "outputs": [],
   "source": [
    "# Deklarasi variabel stup1, stup2 dan stup3\n",
    "stup1 = ('bahasa arab', 'bahasa aceh', 2019, 2020)\n",
    "stup2 = (1, 2, 3, 4, 5, 6, 7, 8)\n",
    "stup3 = \"e\", \"f\", \"g\", \"h\"\n",
    "\n",
    "# Mengakses nilai pada variabel ketiga tupel diatas\n",
    "print (\"stup1[1]: \", stup1[1])\n",
    "print (\"stup2[1:5]: \", stup2[1:5])"
   ]
  },
  {
   "cell_type": "code",
   "execution_count": null,
   "metadata": {},
   "outputs": [],
   "source": [
    "# Deklarasi Variabel ach\n",
    "ach = (\"Mie Aceh\", 10000, 3.5, True, 'AyamPramugari', 88j)\n",
    "\n",
    "# Mengakses nilai tuple  \n",
    "# Data pertama indeks 0\n",
    "print(\"ach[0]:\", ach[0])\n",
    "# Data kedua indeks 1\n",
    "print(\"ach[1]:\", ach[1])\n",
    "# Data ketiga indeks 2\n",
    "print(\"ach[2]:\", ach[2])\n",
    "# Data antara indeks 2 dan 5\n",
    "print(\"ach[2:5]:\", ach[2:5])\n",
    "# Data dari indeks satu sampai indeks 3\n",
    "print(\"ach[:3]:\", ach[:3])\n",
    "# Data dari indeks 3 sampai dengan indeks seterusnya\n",
    "print(\"ach[3:]:\", ach[3:])\n",
    "# Data keseluruhan\n",
    "print(\"ach[:]:\", ach[:])"
   ]
  },
  {
   "cell_type": "code",
   "execution_count": 2,
   "metadata": {},
   "outputs": [
    {
     "name": "stdout",
     "output_type": "stream",
     "text": [
      "(10, 5.78, 'def', 'opq')\n",
      "setelah dihapus:\n"
     ]
    }
   ],
   "source": [
    "# Contoh menambah variabel baru pada daftar tuple\n",
    "stup1 = (10, 5.78)\n",
    "stup2 = ('def', 'opq')\n",
    "\n",
    "# Jika ditambah baris berikut:\n",
    "# stup1[0] = 100;\n",
    "# tidak bisa dilakukan pada tuple python\n",
    "\n",
    "# Jadi, buatlah variabel tuple baru sebagai berikut\n",
    "stup3 = stup1 + stup2\n",
    "print (stup3)\n",
    "\n",
    "del stup3\n",
    "print(\"setelah dihapus:\")"
   ]
  }
 ],
 "metadata": {
  "kernelspec": {
   "display_name": "Python 3",
   "language": "python",
   "name": "python3"
  },
  "language_info": {
   "codemirror_mode": {
    "name": "ipython",
    "version": 3
   },
   "file_extension": ".py",
   "mimetype": "text/x-python",
   "name": "python",
   "nbconvert_exporter": "python",
   "pygments_lexer": "ipython3",
   "version": "3.13.0"
  }
 },
 "nbformat": 4,
 "nbformat_minor": 2
}

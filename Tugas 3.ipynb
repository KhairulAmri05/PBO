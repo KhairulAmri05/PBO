{
 "cells": [
  {
   "cell_type": "code",
   "execution_count": 2,
   "id": "15050cc5",
   "metadata": {},
   "outputs": [
    {
     "name": "stdout",
     "output_type": "stream",
     "text": [
      "Budi details:\n",
      "Rambut:  Ikal\n",
      "Warna Rambut:  Hitam\n",
      "\n",
      "Michael details:\n",
      "Rambut:  Lurus\n",
      "Warna Rambut:  Pirang\n"
     ]
    }
   ],
   "source": [
    "class Person:\n",
    "    # Class Variable\n",
    "    person = 'Person'\n",
    "\n",
    "    # The init method or constructor\n",
    "    def __init__(self, rambut, warna):\n",
    "        # Instance Variables\n",
    "        self.rambut = rambut\n",
    "        self.warna = warna\n",
    "\n",
    "# Objects\n",
    "Budi = Person(\"Ikal\", \"Hitam\")\n",
    "Michael = Person(\"Lurus\", \"Pirang\")\n",
    "\n",
    "print('Budi details:')\n",
    "print('Rambut: ', Budi.rambut)\n",
    "print('Warna Rambut: ', Budi.warna)\n",
    "\n",
    "print('\\nMichael details:')\n",
    "print('Rambut: ', Michael.rambut)\n",
    "print('Warna Rambut: ', Michael.warna)\n"
   ]
  }
 ],
 "metadata": {
  "kernelspec": {
   "display_name": "Python 3",
   "language": "python",
   "name": "python3"
  },
  "language_info": {
   "codemirror_mode": {
    "name": "ipython",
    "version": 3
   },
   "file_extension": ".py",
   "mimetype": "text/x-python",
   "name": "python",
   "nbconvert_exporter": "python",
   "pygments_lexer": "ipython3",
   "version": "3.13.0"
  }
 },
 "nbformat": 4,
 "nbformat_minor": 5
}

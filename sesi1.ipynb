{
 "cells": [
  {
   "cell_type": "code",
   "execution_count": 1,
   "metadata": {},
   "outputs": [
    {
     "name": "stdout",
     "output_type": "stream",
     "text": [
      "Hendri Ahmadian\n",
      "Department of Information Technology\n",
      "UIN Ar-Raniry\n",
      "Jalan Syech Abdurrauf Kopelma Darussalam\n",
      "Banda Aceh 23111\n",
      "Indonesia\n"
     ]
    },
    {
     "data": {
      "text/plain": [
       "'Hendri Ahmadian\\nDepartment of Information Technology\\nUIN Ar-Raniry\\nJalan Syech Abdurrauf Kopelma Darussalam\\nBanda Aceh 23111\\nIndonesia'"
      ]
     },
     "execution_count": 1,
     "metadata": {},
     "output_type": "execute_result"
    }
   ],
   "source": [
    "#Open In Colab\n",
    "#Menggunakan sintaks print\n",
    "# Menampilkan alamat lengkap seseorang \n",
    "print(\"Hendri Ahmadian\")\n",
    "print(\"Department of Information Technology\")\n",
    "print(\"UIN Ar-Raniry\")\n",
    "print(\"Jalan Syech Abdurrauf Kopelma Darussalam\")\n",
    "print(\"Banda Aceh 23111\")\n",
    "print(\"Indonesia\")\n",
    "\"\"\"Hendri Ahmadian\n",
    "Department of Information Technology\n",
    "UIN Ar-Raniry\n",
    "Jalan Syech Abdurrauf Kopelma Darussalam\n",
    "Banda Aceh 23111\n",
    "Indonesia\"\"\""
   ]
  },
  {
   "cell_type": "code",
   "execution_count": 2,
   "metadata": {},
   "outputs": [
    {
     "name": "stdout",
     "output_type": "stream",
     "text": [
      "Luas dari kamar ini adalah 252.0 meter kuadrat\n"
     ]
    },
    {
     "data": {
      "text/plain": [
       "'Masukkan ukuran panjang dalam satuan meter 5\\nMasukkan ukuran lebar dalam satuan meter 4\\nLuas dari kamar ini adalah 20.0 meter kuadrat\\nMenghitung jumlah dari suatu bilangan'"
      ]
     },
     "execution_count": 2,
     "metadata": {},
     "output_type": "execute_result"
    }
   ],
   "source": [
    "#Menghitung luas kamar\n",
    "# Menghitung luas kamar\n",
    "# Membaca angka yang dimasukkan oleh user\n",
    "panjang = float(input(\"Masukkan ukuran panjang dalam satuan meter \"))\n",
    "lebar = float(input(\"Masukkan ukuran lebar dalam satuan meter \"))\n",
    "\n",
    "# Proses perhitungan luas\n",
    "luas = panjang * lebar\n",
    "\n",
    "# Tampilkan hasil\n",
    "print(\"Luas dari kamar ini adalah\", luas, \"meter kuadrat\")     \n",
    "\"\"\"Masukkan ukuran panjang dalam satuan meter 5\n",
    "Masukkan ukuran lebar dalam satuan meter 4\n",
    "Luas dari kamar ini adalah 20.0 meter kuadrat\n",
    "Menghitung jumlah dari suatu bilangan\"\"\"\n"
   ]
  },
  {
   "cell_type": "code",
   "execution_count": 3,
   "metadata": {},
   "outputs": [
    {
     "name": "stdout",
     "output_type": "stream",
     "text": [
      "Jumlah pertama dari  2 bilangan positif adalah 3.0\n"
     ]
    }
   ],
   "source": [
    "# Menghitung jumlah dari bilangan positif pertama\n",
    "#\n",
    "\n",
    "# Membaca angka yang dimasukkan oleh user\n",
    "n = int(input(\"Masukkan bilangan bulat positif:\"))\n",
    "\n",
    "# Proses Menghitung jumlah\n",
    "sm = n * (n+1) / 2\n",
    "\n",
    "# Tampilkan hasil\n",
    "print(\"Jumlah pertama dari \", n, \"bilangan positif adalah\", sm)\n",
    "     "
   ]
  },
  {
   "cell_type": "code",
   "execution_count": 7,
   "metadata": {},
   "outputs": [
    {
     "name": "stdout",
     "output_type": "stream",
     "text": [
      "2 + 3 adalah 5\n",
      "2 - 3 adalah -1\n",
      "2 * 3 adalah 6\n",
      "2 / 3 adalah 0.6666666666666666\n",
      "2 % 3 adalah 2\n"
     ]
    },
    {
     "data": {
      "text/plain": [
       "'Masukkan bilangan dari x:2\\nMasukkan bilangan dari y:3\\n2 + 3 adalah 5\\n2 - 3 adalah -1\\n2 * 3 adalah 6\\n2 / 3 adalah 0.6666666666666666\\n2 % 3 adalah 2\\nLogaritma basis 10 dari 2 adalah 0.3010299956639812\\n2 ^ 3 adalah 8'"
      ]
     },
     "execution_count": 7,
     "metadata": {},
     "output_type": "execute_result"
    }
   ],
   "source": [
    "# Membaca input dari user\n",
    "x = int (input(\"Masukkan bilangan dari x:\"))\n",
    "y = int (input(\"Masukkan bilangan dari y:\"))\n",
    "\n",
    "# Menghitung dan menampilkan operator matematika\n",
    "print(x, \"+\", y, \"adalah\", x + y)\n",
    "print(x, \"-\", y, \"adalah\", x - y)\n",
    "print(x, \"*\", y, \"adalah\", x * y)\n",
    "print(x, \"/\", y, \"adalah\", x / y)\n",
    "print(x, \"%\", y, \"adalah\", x % y)\n",
    "\n",
    "\n",
    "\n",
    "     \n",
    "\"\"\"Masukkan bilangan dari x:2\n",
    "Masukkan bilangan dari y:3\n",
    "2 + 3 adalah 5\n",
    "2 - 3 adalah -1\n",
    "2 * 3 adalah 6\n",
    "2 / 3 adalah 0.6666666666666666\n",
    "2 % 3 adalah 2\n",
    "Logaritma basis 10 dari 2 adalah 0.3010299956639812\n",
    "2 ^ 3 adalah 8\"\"\""
   ]
  },
  {
   "cell_type": "code",
   "execution_count": 6,
   "metadata": {},
   "outputs": [
    {
     "name": "stdout",
     "output_type": "stream",
     "text": [
      "Logaritma basis 10 dari 4 adalah 0.6020599913279624\n",
      "4 ^ 2 adalah 16\n"
     ]
    }
   ],
   "source": [
    "from math import log10\n",
    "\n",
    "# Menghitung logaritma dan pangkat\n",
    "print(\"Logaritma basis 10 dari\", x, \"adalah\", log10(x))\n",
    "print(x, \"^\", y, \"adalah\", x**y)"
   ]
  }
 ],
 "metadata": {
  "kernelspec": {
   "display_name": "Python 3",
   "language": "python",
   "name": "python3"
  },
  "language_info": {
   "codemirror_mode": {
    "name": "ipython",
    "version": 3
   },
   "file_extension": ".py",
   "mimetype": "text/x-python",
   "name": "python",
   "nbconvert_exporter": "python",
   "pygments_lexer": "ipython3",
   "version": "3.13.0"
  }
 },
 "nbformat": 4,
 "nbformat_minor": 2
}

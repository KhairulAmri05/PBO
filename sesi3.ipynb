{
 "cells": [
  {
   "cell_type": "code",
   "execution_count": 1,
   "metadata": {},
   "outputs": [
    {
     "name": "stdout",
     "output_type": "stream",
     "text": [
      "Perulangan ke-0\n",
      "Perulangan ke-1\n",
      "Perulangan ke-2\n",
      "Perulangan ke-3\n",
      "Perulangan ke-4\n",
      "Perulangan ke-5\n",
      "Perulangan ke-6\n",
      "Perulangan ke-7\n",
      "Perulangan ke-8\n",
      "Perulangan ke-9\n",
      "5\n",
      "6\n",
      "7\n",
      "8\n",
      "9\n"
     ]
    }
   ],
   "source": [
    "# Deklarasi variabel contoh dan 10 itu sebagai tanda 10 kali perulangan\n",
    "contoh = 10\n",
    "\n",
    "# Variabel i berfungsi untuk menampung indeks, \n",
    "# dan fungsi range() berfungsi untuk membuat list dari 0-10.\n",
    "for i in range(contoh):\n",
    "    print (\"Perulangan ke-\" +str(i))\n",
    "     \n",
    "\n",
    "# Menampilkan range dari kumpulan deret tertentu\n",
    "# range(5,10) akan membuat deret angka mulai dari 5, 6, 7, 8, dan 9.\n",
    "\n",
    "for i in range(5,10):\n",
    "  print(i)"
   ]
  },
  {
   "cell_type": "code",
   "execution_count": 2,
   "metadata": {},
   "outputs": [
    {
     "name": "stdout",
     "output_type": "stream",
     "text": [
      "saya\n",
      "suka\n",
      "minum\n",
      "kopi\n",
      "gayo\n"
     ]
    }
   ],
   "source": [
    "# Deklarasi variabel contoh2 dengan tipe list\n",
    "contoh2 = ['saya','suka','minum','kopi', 'gayo']\n",
    "\n",
    "for isi in contoh2:\n",
    "    print (isi)"
   ]
  },
  {
   "cell_type": "code",
   "execution_count": 3,
   "metadata": {},
   "outputs": [
    {
     "name": "stdout",
     "output_type": "stream",
     "text": [
      "0 kurang dari 5\n",
      "1 kurang dari 5\n",
      "2 kurang dari 5\n",
      "3 kurang dari 5\n",
      "4 kurang dari 5\n",
      "Salammmm\n"
     ]
    }
   ],
   "source": [
    "# Deklarasi variabel hit\n",
    "hit = 0\n",
    "# Membuat kondisi\n",
    "while (hit < 5):\n",
    "    print(hit, \"kurang dari 5\")\n",
    "    hit = hit + 1\n",
    "else:\n",
    "# Menampilkan output salam jika kondisi sudah terpenuhi\n",
    "    print(\"Salammmm\")"
   ]
  },
  {
   "cell_type": "code",
   "execution_count": 4,
   "metadata": {},
   "outputs": [
    {
     "name": "stdout",
     "output_type": "stream",
     "text": [
      "Faktor persekutuan terbesar dari 2 dan 4  adalah 2\n"
     ]
    }
   ],
   "source": [
    "# Program menghitung Faktor Persekutuan Terbesa\n",
    "#\n",
    "\n",
    "# Membaca dua bilangan positif dari user\n",
    "n = int(input(\"Masukkan bilangan positif:\"))\n",
    "m = int(input(\"Masukkan bilangan positif:\"))\n",
    "\n",
    "# Inisialisasi variabel untuk nilai terkecil dari n dan m\n",
    "d = min(n, m)\n",
    "\n",
    "# Gunakan loop while untuk mencari FPT\n",
    "while n % d != 0 or m % d != 0:\n",
    "  d = d - 1\n",
    "\n",
    "# Menampilkan hasil\n",
    "print(\"Faktor persekutuan terbesar dari\", n, \"dan\", m, \" adalah\", d)"
   ]
  },
  {
   "cell_type": "code",
   "execution_count": 5,
   "metadata": {},
   "outputs": [
    {
     "name": "stdout",
     "output_type": "stream",
     "text": [
      "96\n",
      "97 <== Update\n",
      "45\n",
      "64\n",
      "39\n",
      "9\n",
      "45\n",
      "38\n",
      "70\n",
      "98 <== Update\n",
      "26\n",
      "44\n",
      "52\n",
      "51\n",
      "84\n",
      "71\n",
      "13\n",
      "20\n",
      "15\n",
      "22\n",
      "14\n",
      "64\n",
      "87\n",
      "77\n",
      "31\n",
      "29\n",
      "42\n",
      "52\n",
      "27\n",
      "81\n",
      "56\n",
      "91\n",
      "70\n",
      "62\n",
      "20\n",
      "12\n",
      "17\n",
      "13\n",
      "22\n",
      "57\n",
      "27\n",
      "81\n",
      "69\n",
      "79\n",
      "43\n",
      "44\n",
      "9\n",
      "10\n",
      "73\n",
      "55\n",
      "37\n",
      "93\n",
      "14\n",
      "50\n",
      "31\n",
      "7\n",
      "51\n",
      "67\n",
      "8\n",
      "67\n",
      "12\n",
      "15\n",
      "68\n",
      "95\n",
      "96\n",
      "86\n",
      "38\n",
      "5\n",
      "66\n",
      "100 <== Update\n",
      "10\n",
      "25\n",
      "84\n",
      "99\n",
      "88\n",
      "19\n",
      "42\n",
      "78\n",
      "29\n",
      "36\n",
      "30\n",
      "49\n",
      "97\n",
      "32\n",
      "45\n",
      "47\n",
      "20\n",
      "48\n",
      "26\n",
      "29\n",
      "92\n",
      "89\n",
      "75\n",
      "15\n",
      "68\n",
      "40\n",
      "25\n",
      "78\n",
      "47\n",
      "46\n",
      " Nilai maksimum yang ditemukan adalah 100\n",
      "Nilai maksimum yang di-update 3 kali\n"
     ]
    }
   ],
   "source": [
    "# Menentukan nilai maksimum 100 bilangan bulat, menghitung berapa kali \n",
    "# perulangan\n",
    "\n",
    "from random import randrange\n",
    "\n",
    "BIL_ITEMS = 100\n",
    "\n",
    "# Generate the first number and menampilkan nya\n",
    "maks_nilai = randrange(1, BIL_ITEMS + 1)\n",
    "print(maks_nilai)\n",
    "\n",
    "# Menghitung berapa kali perubahan\n",
    "bil_update = 0\n",
    "\n",
    "# Untuk setiap bilangan \n",
    "for i in range(1, BIL_ITEMS):\n",
    "  # Generate bilangan acak\n",
    "  current = randrange(1, BIL_ITEMS + 1)\n",
    "\n",
    "  # Kondisi jika ditemukan bilangan terbesar\n",
    "  if current > maks_nilai:\n",
    "    # Update nilai maksimum dan hitung perubahan\n",
    "    maks_nilai = current\n",
    "    bil_update = bil_update + 1\n",
    "    # Tampilkan bilangan jika masih ada proses update\n",
    "    print(current, \"<== Update\")\n",
    "  else:\n",
    "    #Tampilkan bilangan\n",
    "    print(current)\n",
    "\n",
    "# Tampilkan Hasil Terakhir\n",
    "print(\" Nilai maksimum yang ditemukan adalah\", maks_nilai)\n",
    "print(\"Nilai maksimum yang di-update\", bil_update, \"kali\")"
   ]
  }
 ],
 "metadata": {
  "kernelspec": {
   "display_name": "Python 3",
   "language": "python",
   "name": "python3"
  },
  "language_info": {
   "codemirror_mode": {
    "name": "ipython",
    "version": 3
   },
   "file_extension": ".py",
   "mimetype": "text/x-python",
   "name": "python",
   "nbconvert_exporter": "python",
   "pygments_lexer": "ipython3",
   "version": "3.13.0"
  }
 },
 "nbformat": 4,
 "nbformat_minor": 2
}
